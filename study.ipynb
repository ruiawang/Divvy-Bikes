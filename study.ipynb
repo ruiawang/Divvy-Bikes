{
 "cells": [
  {
   "attachments": {},
   "cell_type": "markdown",
   "metadata": {},
   "source": [
    "I will be living in the Chicago area soon as part of my Master's program at the University of Chicago. As someone who enjoyed using the electric bikes and scooters located on my undergrad campus, UCLA, I wanted to analyze some behaviors and patterns from the Chicago bike-sharing system that also services the UChicago campus area, Divvy. Having noticed that Divvy has a membership program - I set up this quick case study to analyze the differences between non-member riders (which I will call casual riders) which pay for Divvy bikes using single ride or full-day passes and the Divvy members.\n",
    "\n",
    "Divvy provides its past ride data [here](https://divvy-tripdata.s3.amazonaws.com/index.html). Learn more about Divvy's data collection and terms [here](https://divvybikes.com/system-data) I am using the ride data from the past year, so from May 2022 to May 2023.\n",
    "\n",
    "**Disclaimer**: I do not own any of data in this study. All rights are with Divvy and Motivate.\n",
    "\n",
    "\n",
    "## Preliminaries\n",
    "First we need to import everything we need."
   ]
  },
  {
   "cell_type": "code",
   "execution_count": 5,
   "metadata": {},
   "outputs": [],
   "source": [
    "import matplotlib.pyplot as plt\n",
    "import pandas as pd\n",
    "import numpy as np"
   ]
  },
  {
   "attachments": {},
   "cell_type": "markdown",
   "metadata": {},
   "source": [
    "These three libraries will be our main force in loading, processing, and then visualizing the datasets."
   ]
  },
  {
   "attachments": {},
   "cell_type": "markdown",
   "metadata": {},
   "source": [
    "## Loading the data\n",
    "Now we want to load the datasets. I am using the Divvy Bikes data from 05/2022 to 05/2023, where *month_k.csv* represents the *k*-th month in 05/2022 to 05/2023. Thus, *month_1.csv* represents 05/2022, etc and *month_13.csv* represents the data from 05/2023. I am loading all of these datasets into a list of DataFrames just so we have all our datasets on hand."
   ]
  },
  {
   "cell_type": "code",
   "execution_count": 3,
   "metadata": {},
   "outputs": [],
   "source": [
    "df_list = []\n",
    "for i in range(1,14):\n",
    "    df_list.append(pd.read_csv('month_' + str(i) + '.csv'))"
   ]
  },
  {
   "attachments": {},
   "cell_type": "markdown",
   "metadata": {},
   "source": [
    "As a quick test, we can check that we loaded everything correctly by previewing each DataFrame."
   ]
  },
  {
   "cell_type": "code",
   "execution_count": 4,
   "metadata": {},
   "outputs": [
    {
     "name": "stdout",
     "output_type": "stream",
     "text": [
      "            ride_id rideable_type           started_at             ended_at  \\\n",
      "0  EC2DE40644C6B0F4  classic_bike  2022-05-23 23:06:58  2022-05-23 23:40:19   \n",
      "1  1C31AD03897EE385  classic_bike  2022-05-11 08:53:28  2022-05-11 09:31:22   \n",
      "2  1542FBEC830415CF  classic_bike  2022-05-26 18:36:28  2022-05-26 18:58:18   \n",
      "\n",
      "                  start_station_name start_station_id  \\\n",
      "0             Wabash Ave & Grand Ave     TA1307000117   \n",
      "1  DuSable Lake Shore Dr & Monroe St            13300   \n",
      "2            Clinton St & Madison St     TA1305000032   \n",
      "\n",
      "              end_station_name end_station_id  start_lat  start_lng  \\\n",
      "0       Halsted St & Roscoe St   TA1309000025  41.891466 -87.626761   \n",
      "1  Field Blvd & South Water St          15534  41.880958 -87.616743   \n",
      "2      Wood St & Milwaukee Ave          13221  41.882242 -87.641066   \n",
      "\n",
      "     end_lat    end_lng member_casual  \n",
      "0  41.943670 -87.648950        member  \n",
      "1  41.886349 -87.617517        member  \n",
      "2  41.907655 -87.672552        member  \n",
      "            ride_id  rideable_type           started_at             ended_at  \\\n",
      "0  600CFD130D0FD2A4  electric_bike  2022-06-30 17:27:53  2022-06-30 17:35:15   \n",
      "1  F5E6B5C1682C6464  electric_bike  2022-06-30 18:39:52  2022-06-30 18:47:28   \n",
      "2  B6EB6D27BAD771D2  electric_bike  2022-06-30 11:49:25  2022-06-30 12:02:54   \n",
      "\n",
      "  start_station_name start_station_id end_station_name end_station_id  \\\n",
      "0                NaN              NaN              NaN            NaN   \n",
      "1                NaN              NaN              NaN            NaN   \n",
      "2                NaN              NaN              NaN            NaN   \n",
      "\n",
      "   start_lat  start_lng  end_lat  end_lng member_casual  \n",
      "0      41.89     -87.62    41.91   -87.62        casual  \n",
      "1      41.91     -87.62    41.93   -87.63        casual  \n",
      "2      41.91     -87.65    41.89   -87.61        casual  \n",
      "            ride_id rideable_type           started_at             ended_at  \\\n",
      "0  954144C2F67B1932  classic_bike  2022-07-05 08:12:47  2022-07-05 08:24:32   \n",
      "1  292E027607D218B6  classic_bike  2022-07-26 12:53:38  2022-07-26 12:55:31   \n",
      "2  57765852588AD6E0  classic_bike  2022-07-03 13:58:49  2022-07-03 14:06:32   \n",
      "\n",
      "           start_station_name start_station_id          end_station_name  \\\n",
      "0  Ashland Ave & Blackhawk St            13224  Kingsbury St & Kinzie St   \n",
      "1  Buckingham Fountain (Temp)            15541     Michigan Ave & 8th St   \n",
      "2  Buckingham Fountain (Temp)            15541     Michigan Ave & 8th St   \n",
      "\n",
      "  end_station_id  start_lat  start_lng    end_lat    end_lng member_casual  \n",
      "0   KA1503000043  41.907066 -87.667252  41.889177 -87.638506        member  \n",
      "1            623  41.869621 -87.623981  41.872773 -87.623981        casual  \n",
      "2            623  41.869621 -87.623981  41.872773 -87.623981        casual  \n",
      "            ride_id  rideable_type           started_at             ended_at  \\\n",
      "0  550CF7EFEAE0C618  electric_bike  2022-08-07 21:34:15  2022-08-07 21:41:46   \n",
      "1  DAD198F405F9C5F5  electric_bike  2022-08-08 14:39:21  2022-08-08 14:53:23   \n",
      "2  E6F2BC47B65CB7FD  electric_bike  2022-08-08 15:29:50  2022-08-08 15:40:34   \n",
      "\n",
      "  start_station_name start_station_id end_station_name end_station_id  \\\n",
      "0                NaN              NaN              NaN            NaN   \n",
      "1                NaN              NaN              NaN            NaN   \n",
      "2                NaN              NaN              NaN            NaN   \n",
      "\n",
      "   start_lat  start_lng  end_lat  end_lng member_casual  \n",
      "0      41.93     -87.69    41.94   -87.72        casual  \n",
      "1      41.89     -87.64    41.92   -87.64        casual  \n",
      "2      41.97     -87.69    41.97   -87.66        casual  \n",
      "            ride_id  rideable_type           started_at             ended_at  \\\n",
      "0  5156990AC19CA285  electric_bike  2022-09-01 08:36:22  2022-09-01 08:39:05   \n",
      "1  E12D4A16BF51C274  electric_bike  2022-09-01 17:11:29  2022-09-01 17:14:45   \n",
      "2  A02B53CD7DB72DD7  electric_bike  2022-09-01 17:15:50  2022-09-01 17:16:12   \n",
      "\n",
      "  start_station_name start_station_id                end_station_name  \\\n",
      "0                NaN              NaN  California Ave & Milwaukee Ave   \n",
      "1                NaN              NaN                             NaN   \n",
      "2                NaN              NaN                             NaN   \n",
      "\n",
      "  end_station_id  start_lat  start_lng    end_lat    end_lng member_casual  \n",
      "0          13084      41.93     -87.69  41.922695 -87.697153        casual  \n",
      "1            NaN      41.87     -87.62  41.870000 -87.620000        casual  \n",
      "2            NaN      41.87     -87.62  41.870000 -87.620000        casual  \n",
      "            ride_id  rideable_type           started_at             ended_at  \\\n",
      "0  A50255C1E17942AB   classic_bike  2022-10-14 17:13:30  2022-10-14 17:19:39   \n",
      "1  DB692A70BD2DD4E3  electric_bike  2022-10-01 16:29:26  2022-10-01 16:49:06   \n",
      "2  3C02727AAF60F873  electric_bike  2022-10-19 18:55:40  2022-10-19 19:03:30   \n",
      "\n",
      "          start_station_name start_station_id           end_station_name  \\\n",
      "0   Noble St & Milwaukee Ave            13290  Larrabee St & Division St   \n",
      "1  Damen Ave & Charleston St            13288   Damen Ave & Cullerton St   \n",
      "2   Hoyne Ave & Balmoral Ave              655   Western Ave & Leland Ave   \n",
      "\n",
      "  end_station_id  start_lat  start_lng    end_lat    end_lng member_casual  \n",
      "0   KA1504000079  41.900680 -87.662600  41.903486 -87.643353        member  \n",
      "1          13089  41.920037 -87.677937  41.854967 -87.675700        casual  \n",
      "2   TA1307000140  41.979879 -87.681902  41.966400 -87.688704        member  \n",
      "            ride_id  rideable_type           started_at             ended_at  \\\n",
      "0  BCC66FC6FAB27CC7  electric_bike  2022-11-10 06:21:55  2022-11-10 06:31:27   \n",
      "1  772AB67E902C180F   classic_bike  2022-11-04 07:31:55  2022-11-04 07:46:25   \n",
      "2  585EAD07FDEC0152   classic_bike  2022-11-21 17:20:29  2022-11-21 17:34:36   \n",
      "\n",
      "           start_station_name start_station_id        end_station_name  \\\n",
      "0         Canal St & Adams St            13011  St. Clair St & Erie St   \n",
      "1         Canal St & Adams St            13011  St. Clair St & Erie St   \n",
      "2  Indiana Ave & Roosevelt Rd           SL-005  St. Clair St & Erie St   \n",
      "\n",
      "  end_station_id  start_lat  start_lng    end_lat    end_lng member_casual  \n",
      "0          13016  41.879401 -87.639848  41.894345 -87.622798        member  \n",
      "1          13016  41.879255 -87.639904  41.894345 -87.622798        member  \n",
      "2          13016  41.867888 -87.623041  41.894345 -87.622798        member  \n",
      "            ride_id  rideable_type           started_at             ended_at  \\\n",
      "0  65DBD2F447EC51C2  electric_bike  2022-12-05 10:47:18  2022-12-05 10:56:34   \n",
      "1  0C201AA7EA0EA1AD   classic_bike  2022-12-18 06:42:33  2022-12-18 07:08:44   \n",
      "2  E0B148CCB358A49D  electric_bike  2022-12-13 08:47:45  2022-12-13 08:59:51   \n",
      "\n",
      "           start_station_name start_station_id           end_station_name  \\\n",
      "0  Clifton Ave & Armitage Ave     TA1307000163  Sedgwick St & Webster Ave   \n",
      "1      Broadway & Belmont Ave            13277  Sedgwick St & Webster Ave   \n",
      "2       Sangamon St & Lake St     TA1306000015     St. Clair St & Erie St   \n",
      "\n",
      "  end_station_id  start_lat  start_lng    end_lat    end_lng member_casual  \n",
      "0          13191  41.918244 -87.657115  41.922167 -87.638888        member  \n",
      "1          13191  41.940106 -87.645451  41.922167 -87.638888        casual  \n",
      "2          13016  41.885919 -87.651133  41.894345 -87.622798        member  \n",
      "            ride_id  rideable_type           started_at             ended_at  \\\n",
      "0  F96D5A74A3E41399  electric_bike  2023-01-21 20:05:42  2023-01-21 20:16:33   \n",
      "1  13CB7EB698CEDB88   classic_bike  2023-01-10 15:37:36  2023-01-10 15:46:05   \n",
      "2  BD88A2E670661CE5  electric_bike  2023-01-02 07:51:57  2023-01-02 08:05:11   \n",
      "\n",
      "            start_station_name start_station_id  \\\n",
      "0  Lincoln Ave & Fullerton Ave     TA1309000058   \n",
      "1        Kimbark Ave & 53rd St     TA1309000037   \n",
      "2       Western Ave & Lunt Ave           RP-005   \n",
      "\n",
      "                 end_station_name end_station_id  start_lat  start_lng  \\\n",
      "0       Hampden Ct & Diversey Ave       202480.0  41.924074 -87.646278   \n",
      "1         Greenwood Ave & 47th St   TA1308000002  41.799568 -87.594747   \n",
      "2  Valli Produce - Evanston Plaza            599  42.008571 -87.690483   \n",
      "\n",
      "     end_lat    end_lng member_casual  \n",
      "0  41.930000 -87.640000        member  \n",
      "1  41.809835 -87.599383        member  \n",
      "2  42.039742 -87.699413        casual  \n",
      "            ride_id  rideable_type           started_at             ended_at  \\\n",
      "0  CBCD0D7777F0E45F   classic_bike  2023-02-14 11:59:42  2023-02-14 12:13:38   \n",
      "1  F3EC5FCE5FF39DE9  electric_bike  2023-02-15 13:53:48  2023-02-15 13:59:08   \n",
      "2  E54C1F27FA9354FF   classic_bike  2023-02-19 11:10:57  2023-02-19 11:35:01   \n",
      "\n",
      "             start_station_name start_station_id            end_station_name  \\\n",
      "0  Southport Ave & Clybourn Ave     TA1309000030      Clark St & Schiller St   \n",
      "1    Clarendon Ave & Gordon Ter            13379  Sheridan Rd & Lawrence Ave   \n",
      "2  Southport Ave & Clybourn Ave     TA1309000030     Aberdeen St & Monroe St   \n",
      "\n",
      "  end_station_id  start_lat  start_lng    end_lat    end_lng member_casual  \n",
      "0   TA1309000024  41.920771 -87.663712  41.907993 -87.631501        casual  \n",
      "1   TA1309000041  41.957879 -87.649584  41.969517 -87.654691        casual  \n",
      "2          13156  41.920771 -87.663712  41.880419 -87.655519        member  \n",
      "            ride_id  rideable_type           started_at             ended_at  \\\n",
      "0  6842AA605EE9FBB3  electric_bike  2023-03-16 08:20:34  2023-03-16 08:22:52   \n",
      "1  F984267A75B99A8C  electric_bike  2023-03-04 14:07:06  2023-03-04 14:15:31   \n",
      "2  FF7CF57CFE026D02   classic_bike  2023-03-31 12:28:09  2023-03-31 12:38:47   \n",
      "\n",
      "                     start_station_name start_station_id  \\\n",
      "0               Clark St & Armitage Ave            13146   \n",
      "1  Public Rack - Kedzie Ave & Argyle St              491   \n",
      "2  Orleans St & Chestnut St (NEXT Apts)              620   \n",
      "\n",
      "            end_station_name end_station_id  start_lat  start_lng    end_lat  \\\n",
      "0  Larrabee St & Webster Ave          13193  41.918413 -87.636451  41.921822   \n",
      "1                        NaN            NaN  41.970000 -87.710000  41.950000   \n",
      "2     Clark St & Randolph St   TA1305000030  41.898203 -87.637536  41.884576   \n",
      "\n",
      "    end_lng member_casual  \n",
      "0 -87.64414        member  \n",
      "1 -87.71000        member  \n",
      "2 -87.63189        member  \n",
      "            ride_id  rideable_type           started_at             ended_at  \\\n",
      "0  8FE8F7D9C10E88C7  electric_bike  2023-04-02 08:37:28  2023-04-02 08:41:37   \n",
      "1  34E4ED3ADF1D821B  electric_bike  2023-04-19 11:29:02  2023-04-19 11:52:12   \n",
      "2  5296BF07A2F77CB5  electric_bike  2023-04-19 08:41:22  2023-04-19 08:43:22   \n",
      "\n",
      "  start_station_name start_station_id end_station_name end_station_id  \\\n",
      "0                NaN              NaN              NaN            NaN   \n",
      "1                NaN              NaN              NaN            NaN   \n",
      "2                NaN              NaN              NaN            NaN   \n",
      "\n",
      "   start_lat  start_lng  end_lat  end_lng member_casual  \n",
      "0      41.80     -87.60    41.79   -87.60        member  \n",
      "1      41.87     -87.65    41.93   -87.68        member  \n",
      "2      41.93     -87.66    41.93   -87.66        member  \n",
      "            ride_id  rideable_type           started_at             ended_at  \\\n",
      "0  0D9FA920C3062031  electric_bike  2023-05-07 19:53:48  2023-05-07 19:58:32   \n",
      "1  92485E5FB5888ACD  electric_bike  2023-05-06 18:54:08  2023-05-06 19:03:35   \n",
      "2  FB144B3FC8300187  electric_bike  2023-05-21 00:40:21  2023-05-21 00:44:36   \n",
      "\n",
      "            start_station_name start_station_id end_station_name  \\\n",
      "0  Southport Ave & Belmont Ave            13229              NaN   \n",
      "1  Southport Ave & Belmont Ave            13229              NaN   \n",
      "2         Halsted St & 21st St            13162              NaN   \n",
      "\n",
      "  end_station_id  start_lat  start_lng  end_lat  end_lng member_casual  \n",
      "0            NaN  41.939408 -87.663831    41.93   -87.65        member  \n",
      "1            NaN  41.939482 -87.663848    41.94   -87.69        member  \n",
      "2            NaN  41.853793 -87.646719    41.86   -87.65        member  \n"
     ]
    }
   ],
   "source": [
    "for df in df_list:\n",
    "    print(df.head(3))"
   ]
  },
  {
   "attachments": {},
   "cell_type": "markdown",
   "metadata": {},
   "source": [
    "## Processing\n",
    "\n",
    "Now we can begin processing the datasets. First, I am going to add a column to each DataFrame that includes the total trip time for each trip, in minutes. **Note**: I am using a *minutes* format, not *minutes*:*seconds* format."
   ]
  },
  {
   "cell_type": "code",
   "execution_count": 6,
   "metadata": {},
   "outputs": [],
   "source": [
    "for df in df_list:\n",
    "    df[['started_at','ended_at']] = df[['started_at','ended_at']].apply(pd.to_datetime)\n",
    "    df['ride_length'] = (df['ended_at'] - df['started_at'])/np.timedelta64(1, 'm')"
   ]
  },
  {
   "attachments": {},
   "cell_type": "markdown",
   "metadata": {},
   "source": [
    "Once again, we can preview the *ride_length* column of each DataFrame to make sure we implemented it correctly."
   ]
  },
  {
   "cell_type": "code",
   "execution_count": 21,
   "metadata": {},
   "outputs": [],
   "source": [
    "for df in df_list:\n",
    "    print(df['ride_length'].head(3))"
   ]
  },
  {
   "attachments": {},
   "cell_type": "markdown",
   "metadata": {},
   "source": [
    "Now I will add another column to each DataFrame that includes the day of week when the ride started. **Note**: in pandas, dayofweek is formatted where 0 is Monday, 6 is Sunday, which is different from Excel/Google Sheets where 1 is Sunday, and 7 is Saturday."
   ]
  },
  {
   "cell_type": "code",
   "execution_count": 58,
   "metadata": {},
   "outputs": [],
   "source": [
    "for df in df_list:\n",
    "    df['day_of_week'] = df['started_at'].dt.dayofweek"
   ]
  },
  {
   "cell_type": "code",
   "execution_count": null,
   "metadata": {},
   "outputs": [],
   "source": [
    "for df in df_list:\n",
    "    print(df['day_of_week'].head(3))"
   ]
  },
  {
   "attachments": {},
   "cell_type": "markdown",
   "metadata": {},
   "source": [
    "## Analysis\n",
    "Now we can move on to analyzing the datasets in more detail. We will first analyze the average, max, and most common day of week for Divvy bike rides across each month."
   ]
  },
  {
   "cell_type": "code",
   "execution_count": 37,
   "metadata": {},
   "outputs": [],
   "source": [
    "mean_ride_lengths = []\n",
    "max_ride_lengths = []\n",
    "most_common_day_of_week = []\n",
    "for df in df_list:\n",
    "    mean_ride_lengths.append(df['ride_length'].mean())\n",
    "    max_ride_lengths.append(df['ride_length'].max())\n",
    "    most_common_day_of_week.append(df['day_of_week'].mode().iat[0])"
   ]
  },
  {
   "cell_type": "code",
   "execution_count": 38,
   "metadata": {},
   "outputs": [],
   "source": [
    "months = ['May', 'Jun', 'Jul', 'Aug', 'Sep', 'Oct', 'Nov', 'Dec', 'Jan', 'Feb', 'Mar', 'Apr', 'May']\n",
    "mean_month_df = pd.DataFrame({'month': months, 'mean': mean_ride_lengths})"
   ]
  },
  {
   "attachments": {},
   "cell_type": "markdown",
   "metadata": {},
   "source": [
    "As a quick check, we can plot the average ride duration against the month for some preliminary insights."
   ]
  },
  {
   "cell_type": "code",
   "execution_count": 39,
   "metadata": {},
   "outputs": [
    {
     "data": {
      "image/png": "[encoded data removed]",
      "text/plain": [
       "<Figure size 640x480 with 1 Axes>"
      ]
     },
     "metadata": {},
     "output_type": "display_data"
    }
   ],
   "source": [
    "ax = mean_month_df.plot.bar(x = 'month', y= 'mean',rot=0)\n",
    "ax.set_xlabel(\"\")\n",
    "ax.set_ylabel(\"minutes\")\n",
    "ax.legend().set_visible(False)\n",
    "ax.yaxis.grid(True)\n",
    "ax.set_yticks(np.arange(0,max(mean_ride_lengths),4))\n",
    "ax.set_title(\"Average ride lengths in minutes May 2022 - May 2023\")\n",
    "plt.show()"
   ]
  },
  {
   "attachments": {},
   "cell_type": "markdown",
   "metadata": {},
   "source": [
    "The average ride length decreases steeply as the months transition into November-March, which is sensible due to the colder weather. Similarly, the average ride length hits a high during June, which can also be explained by warmer/overall nicer weather."
   ]
  },
  {
   "attachments": {},
   "cell_type": "markdown",
   "metadata": {},
   "source": [
    "This average is the average for all riders though - so we can modify our analysis to differentiate between members and casual riders."
   ]
  },
  {
   "cell_type": "code",
   "execution_count": 16,
   "metadata": {},
   "outputs": [],
   "source": [
    "casual_means = []\n",
    "member_means = []\n",
    "\n",
    "for df in df_list:\n",
    "    casual_means.append(df.where(df['member_casual'] == 'casual')['ride_length'].mean())\n",
    "    member_means.append(df.where(df['member_casual'] == 'member')['ride_length'].mean())\n",
    "\n",
    "casual_member_means = pd.DataFrame({'month': months, 'casual_mean': casual_means, 'member_mean': member_means})"
   ]
  },
  {
   "cell_type": "code",
   "execution_count": 40,
   "metadata": {},
   "outputs": [
    {
     "data": {
      "text/html": [
       "<div>\n",
       "<style scoped>\n",
       "    .dataframe tbody tr th:only-of-type {\n",
       "        vertical-align: middle;\n",
       "    }\n",
       "\n",
       "    .dataframe tbody tr th {\n",
       "        vertical-align: top;\n",
       "    }\n",
       "\n",
       "    .dataframe thead th {\n",
       "        text-align: right;\n",
       "    }\n",
       "</style>\n",
       "<table border=\"1\" class=\"dataframe\">\n",
       "  <thead>\n",
       "    <tr style=\"text-align: right;\">\n",
       "      <th></th>\n",
       "      <th>month</th>\n",
       "      <th>casual_mean</th>\n",
       "      <th>member_mean</th>\n",
       "    </tr>\n",
       "  </thead>\n",
       "  <tbody>\n",
       "    <tr>\n",
       "      <th>0</th>\n",
       "      <td>May</td>\n",
       "      <td>30.869612</td>\n",
       "      <td>13.366677</td>\n",
       "    </tr>\n",
       "    <tr>\n",
       "      <th>1</th>\n",
       "      <td>Jun</td>\n",
       "      <td>32.096975</td>\n",
       "      <td>13.998434</td>\n",
       "    </tr>\n",
       "    <tr>\n",
       "      <th>2</th>\n",
       "      <td>Jul</td>\n",
       "      <td>29.278088</td>\n",
       "      <td>13.718340</td>\n",
       "    </tr>\n",
       "    <tr>\n",
       "      <th>3</th>\n",
       "      <td>Aug</td>\n",
       "      <td>29.310048</td>\n",
       "      <td>13.384163</td>\n",
       "    </tr>\n",
       "    <tr>\n",
       "      <th>4</th>\n",
       "      <td>Sep</td>\n",
       "      <td>27.985169</td>\n",
       "      <td>12.950140</td>\n",
       "    </tr>\n",
       "    <tr>\n",
       "      <th>5</th>\n",
       "      <td>Oct</td>\n",
       "      <td>26.387427</td>\n",
       "      <td>11.958171</td>\n",
       "    </tr>\n",
       "    <tr>\n",
       "      <th>6</th>\n",
       "      <td>Nov</td>\n",
       "      <td>21.286235</td>\n",
       "      <td>11.128622</td>\n",
       "    </tr>\n",
       "    <tr>\n",
       "      <th>7</th>\n",
       "      <td>Dec</td>\n",
       "      <td>22.289564</td>\n",
       "      <td>10.619488</td>\n",
       "    </tr>\n",
       "    <tr>\n",
       "      <th>8</th>\n",
       "      <td>Jan</td>\n",
       "      <td>22.914840</td>\n",
       "      <td>10.361764</td>\n",
       "    </tr>\n",
       "    <tr>\n",
       "      <th>9</th>\n",
       "      <td>Feb</td>\n",
       "      <td>23.192516</td>\n",
       "      <td>10.714270</td>\n",
       "    </tr>\n",
       "    <tr>\n",
       "      <th>10</th>\n",
       "      <td>Mar</td>\n",
       "      <td>21.412276</td>\n",
       "      <td>10.442221</td>\n",
       "    </tr>\n",
       "    <tr>\n",
       "      <th>11</th>\n",
       "      <td>Apr</td>\n",
       "      <td>27.672756</td>\n",
       "      <td>11.693743</td>\n",
       "    </tr>\n",
       "    <tr>\n",
       "      <th>12</th>\n",
       "      <td>May</td>\n",
       "      <td>28.519831</td>\n",
       "      <td>13.039962</td>\n",
       "    </tr>\n",
       "  </tbody>\n",
       "</table>\n",
       "</div>"
      ],
      "text/plain": [
       "   month  casual_mean  member_mean\n",
       "0    May    30.869612    13.366677\n",
       "1    Jun    32.096975    13.998434\n",
       "2    Jul    29.278088    13.718340\n",
       "3    Aug    29.310048    13.384163\n",
       "4    Sep    27.985169    12.950140\n",
       "5    Oct    26.387427    11.958171\n",
       "6    Nov    21.286235    11.128622\n",
       "7    Dec    22.289564    10.619488\n",
       "8    Jan    22.914840    10.361764\n",
       "9    Feb    23.192516    10.714270\n",
       "10   Mar    21.412276    10.442221\n",
       "11   Apr    27.672756    11.693743\n",
       "12   May    28.519831    13.039962"
      ]
     },
     "execution_count": 40,
     "metadata": {},
     "output_type": "execute_result"
    }
   ],
   "source": [
    "casual_member_means"
   ]
  },
  {
   "cell_type": "code",
   "execution_count": 30,
   "metadata": {},
   "outputs": [
    {
     "data": {
      "image/png": "[encoded data removed]",
      "text/plain": [
       "<Figure size 640x480 with 1 Axes>"
      ]
     },
     "metadata": {},
     "output_type": "display_data"
    }
   ],
   "source": [
    "ax = casual_member_means.plot.bar(x='month', y=['casual_mean','member_mean'],rot=0)\n",
    "ax.set_xlabel(\"\")\n",
    "ax.set_ylabel(\"minutes\")\n",
    "ax.yaxis.grid(True)\n",
    "ax.set_title(\"Average ride lengths for members and casual riders in minutes May 2022 - May 2023\")\n",
    "ax.legend(['casual riders', 'members'])\n",
    "plt.show()"
   ]
  },
  {
   "cell_type": "markdown",
   "metadata": {},
   "source": [
    "The average ride length for casual riders far exceeds that of members, which is sensible and can be explained by casual riders purchasing one-time/day passes, thus will ride less often, but for longer - whereas members have annual passes and thus can ride at any time, so will ride more often, but for shorter lengths. We can confirm this by examining the actual number of rides made by members vs. casual riders."
   ]
  },
  {
   "cell_type": "code",
   "execution_count": 99,
   "metadata": {},
   "outputs": [],
   "source": [
    "casual_rides = []\n",
    "member_rides = []\n",
    "for df in df_list:\n",
    "    casual_rides.append(df['member_casual'].value_counts()['casual'])\n",
    "    member_rides.append(df['member_casual'].value_counts()['member'])\n",
    "\n",
    "casual_member_rides = pd.DataFrame({'month': months, 'casual_rides': casual_rides, 'member_rides': member_rides})"
   ]
  },
  {
   "cell_type": "code",
   "execution_count": 100,
   "metadata": {},
   "outputs": [
    {
     "data": {
      "image/png": "[encoded data removed]",
      "text/plain": [
       "<Figure size 640x480 with 1 Axes>"
      ]
     },
     "metadata": {},
     "output_type": "display_data"
    }
   ],
   "source": [
    "ax = casual_member_rides.plot.bar(x='month', y=['casual_rides','member_rides'],rot=0)\n",
    "ax.set_xlabel(\"\")\n",
    "ax.set_ylabel(\"rides\")\n",
    "ax.yaxis.grid(True)\n",
    "ax.set_title(\"Number of rides for members and casual riders May 2022 - May 2023\")\n",
    "ax.legend(['casual riders', 'members'])\n",
    "plt.show()"
   ]
  },
  {
   "cell_type": "markdown",
   "metadata": {},
   "source": [
    "This result supports our hypothesis that members ride more often than casual riders. While both casual riders and members experienced a dropoff in number of rides as the weather becomes colder, the dropoff is much steeper for casual riders than for members. From this we can infer that casual riders are much less likely to go for a ride than members when the weather is worse/colder. We can also examine and breakdown these patterns on a day-of-week basis."
   ]
  },
  {
   "cell_type": "code",
   "execution_count": 65,
   "metadata": {},
   "outputs": [],
   "source": [
    "pivot_table_list_means = []\n",
    "pivot_table_list_counts = []\n",
    "for df in df_list:\n",
    "    pivot_table_list_means.append(df.pivot_table(values='ride_length',index='member_casual',columns='day_of_week',aggfunc=np.average))\n",
    "    pivot_table_list_counts.append(df.pivot_table(values='ride_id',index='member_casual',columns='day_of_week',aggfunc=np.count_nonzero))"
   ]
  },
  {
   "cell_type": "code",
   "execution_count": 67,
   "metadata": {},
   "outputs": [
    {
     "name": "stdout",
     "output_type": "stream",
     "text": [
      "day_of_week            0          1          2          3          4  \\\n",
      "member_casual                                                          \n",
      "casual         32.440332  26.742422  25.792914  29.260581  29.475371   \n",
      "member         13.392301  12.778912  12.321286  13.158724  12.818710   \n",
      "\n",
      "day_of_week            5          6  \n",
      "member_casual                        \n",
      "casual         33.393082  33.719398  \n",
      "member         14.705749  14.478485  \n",
      "day_of_week            0          1          2          3          4  \\\n",
      "member_casual                                                          \n",
      "casual         31.476297  31.452828  29.065671  30.195765  32.641569   \n",
      "member         13.418692  13.639113  13.105556  13.704779  13.803296   \n",
      "\n",
      "day_of_week            5          6  \n",
      "member_casual                        \n",
      "casual         32.226331  36.136855  \n",
      "member         15.173553  15.683748  \n",
      "day_of_week            0          1          2          3          4  \\\n",
      "member_casual                                                          \n",
      "casual         31.109293  26.377237  23.998201  24.345831  26.082981   \n",
      "member         13.384378  12.934302  12.910128  13.019101  13.018259   \n",
      "\n",
      "day_of_week            5          6  \n",
      "member_casual                        \n",
      "casual         32.904191  33.583861  \n",
      "member         15.297789  15.199627  \n",
      "day_of_week            0          1          2          3          4  \\\n",
      "member_casual                                                          \n",
      "casual         28.892910  28.178307  25.641818  25.172077  30.225687   \n",
      "member         12.477031  13.060319  12.994335  13.040075  13.556394   \n",
      "\n",
      "day_of_week            5          6  \n",
      "member_casual                        \n",
      "casual         31.943696  33.747881  \n",
      "member         14.683466  14.635292  \n",
      "day_of_week            0          1          2          3          4  \\\n",
      "member_casual                                                          \n",
      "casual         28.627406  21.169022  22.791766  21.176215  27.127319   \n",
      "member         12.548493  12.229917  12.221457  12.428270  12.988816   \n",
      "\n",
      "day_of_week            5          6  \n",
      "member_casual                        \n",
      "casual         35.387045  34.657951  \n",
      "member         14.792672  14.141632  \n",
      "day_of_week            0          1          2          3          4  \\\n",
      "member_casual                                                          \n",
      "casual         22.229420  23.335846  20.124006  19.637134  25.339854   \n",
      "member         11.417176  11.180016  11.263694  10.948700  11.699504   \n",
      "\n",
      "day_of_week            5          6  \n",
      "member_casual                        \n",
      "casual         30.249856  32.387311  \n",
      "member         13.486729  13.326260  \n",
      "day_of_week            0          1          2          3          4  \\\n",
      "member_casual                                                          \n",
      "casual         17.718757  16.698182  16.400891  24.171348  19.264604   \n",
      "member         10.567076  10.779272  10.922043  11.675448  11.347359   \n",
      "\n",
      "day_of_week            5          6  \n",
      "member_casual                        \n",
      "casual         22.560206  33.971040  \n",
      "member         11.174650  11.839897  \n",
      "day_of_week            0          1          2          3          4  \\\n",
      "member_casual                                                          \n",
      "casual         18.285677  15.323816  24.224319  19.692970  29.058648   \n",
      "member         10.488288  10.330682  10.386943  10.403074  10.891751   \n",
      "\n",
      "day_of_week            5          6  \n",
      "member_casual                        \n",
      "casual         23.293224  25.110384  \n",
      "member         11.287752  10.849132  \n",
      "day_of_week            0          1          2          3          4  \\\n",
      "member_casual                                                          \n",
      "casual         22.085893  18.185011  18.977805  21.828777  20.225200   \n",
      "member         10.314227  10.053910  10.108907   9.833899  10.504098   \n",
      "\n",
      "day_of_week            5          6  \n",
      "member_casual                        \n",
      "casual         25.661873  33.274962  \n",
      "member         10.764877  11.581969  \n",
      "day_of_week            0          1          2          3          4  \\\n",
      "member_casual                                                          \n",
      "casual         20.326125  20.282720  16.327951  15.815531  19.170847   \n",
      "member         10.635005  10.046637   9.856682   9.922503  10.221802   \n",
      "\n",
      "day_of_week            5          6  \n",
      "member_casual                        \n",
      "casual         35.188778  26.481939  \n",
      "member         12.038061  12.636415  \n",
      "day_of_week            0          1          2          3          4  \\\n",
      "member_casual                                                          \n",
      "casual         24.563584  19.287274  22.051117  16.664095  19.289173   \n",
      "member         10.078753  10.482331  10.405583  10.000951  10.331098   \n",
      "\n",
      "day_of_week            5          6  \n",
      "member_casual                        \n",
      "casual         25.418814  25.045941  \n",
      "member         11.553590  11.002316  \n",
      "day_of_week            0          1          2          3          4  \\\n",
      "member_casual                                                          \n",
      "casual         27.030614  26.135031  24.970232  23.888738  24.219149   \n",
      "member         10.253453  11.404972  11.298722  11.636690  11.596466   \n",
      "\n",
      "day_of_week            5          6  \n",
      "member_casual                        \n",
      "casual         33.794233  30.849109  \n",
      "member         13.206818  12.488723  \n",
      "day_of_week            0          1          2          3          4  \\\n",
      "member_casual                                                          \n",
      "casual         27.822271  26.372665  23.272174  26.431101  27.806851   \n",
      "member         12.499962  12.926298  12.370954  12.390034  12.543716   \n",
      "\n",
      "day_of_week            5          6  \n",
      "member_casual                        \n",
      "casual         31.881477  33.256575  \n",
      "member         14.530202  14.831170  \n"
     ]
    }
   ],
   "source": [
    "for table in pivot_table_list_means:\n",
    "    print(table)"
   ]
  },
  {
   "cell_type": "code",
   "execution_count": 101,
   "metadata": {},
   "outputs": [
    {
     "name": "stdout",
     "output_type": "stream",
     "text": [
      "day_of_week        0      1      2      3      4      5      6\n",
      "member_casual                                                 \n",
      "casual         47469  35067  24066  33399  32238  52855  55321\n",
      "member         62061  59543  45097  51663  42310  44995  48774\n",
      "day_of_week        0      1      2      3      4      5      6\n",
      "member_casual                                                 \n",
      "casual         37005  38825  48387  57978  55868  65137  65851\n",
      "member         46791  54986  68797  73501  57322  49694  49062\n",
      "day_of_week        0      1      2      3      4      5      6\n",
      "member_casual                                                 \n",
      "casual         43971  41455  42850  47793  56505  95230  78251\n",
      "member         49850  57524  59611  61155  61644  68869  58780\n",
      "day_of_week        0      1      2      3      4      5      6\n",
      "member_casual                                                 \n",
      "casual         42362  51509  51488  42353  56868  66190  48154\n",
      "member         62603  76718  76616  57510  58703  51886  42972\n",
      "day_of_week        0      1      2      3      4      5      6\n",
      "member_casual                                                 \n",
      "casual         31052  29586  33504  45839  56385  64077  36254\n",
      "member         47422  57033  61507  76591  72330  54019  35740\n",
      "day_of_week        0      1      2      3      4      5      6\n",
      "member_casual                                                 \n",
      "casual         27234  15694  20593  22585  25980  52222  44681\n",
      "member         58289  39748  48893  49239  45024  58137  50366\n",
      "day_of_week        0      1      2      3      4      5      6\n",
      "member_casual                                                 \n",
      "casual         10300  15808  17779  17981  14538  11869  12497\n",
      "member         32305  46114  47448  39125  30324  20440  21207\n",
      "day_of_week        0      1      2      3      4      5      6\n",
      "member_casual                                                 \n",
      "casual          4936   5917   5678   8177   7156   7687   5343\n",
      "member         18889  22108  20162  27095  19662  16879  12117\n",
      "day_of_week        0      1      2      3      4      5      6\n",
      "member_casual                                                 \n",
      "casual          5698   6904   5978   5022   5012   5017   6377\n",
      "member         22649  29377  24743  22645  20109  14781  15989\n",
      "day_of_week        0      1      2      3      4      5      6\n",
      "member_casual                                                 \n",
      "casual          6788   6853   4577   3712   4250   6881   9955\n",
      "member         24391  28631  21215  18140  17311  17404  20337\n",
      "day_of_week        0      1      2      3      4      5      6\n",
      "member_casual                                                 \n",
      "casual          6818   9219  11305  10125   9362   7986   7386\n",
      "member         25390  32128  39751  35902  29155  16962  17189\n",
      "day_of_week        0      1      2      3      4      5      6\n",
      "member_casual                                                 \n",
      "casual         12119  15826  18370  23507  25922  32775  18766\n",
      "member         33924  40492  43076  48318  43582  40365  29548\n",
      "day_of_week        0      1      2      3      4      5      6\n",
      "member_casual                                                 \n",
      "casual         29541  33382  31393  28271  28712  40758  42124\n",
      "member         48896  67680  67517  55686  46302  43322  41243\n"
     ]
    }
   ],
   "source": [
    "for table in pivot_table_list_counts:\n",
    "    print(table)"
   ]
  },
  {
   "cell_type": "markdown",
   "metadata": {},
   "source": [
    "Our previous hypothesis that members ride more frequently but for shorter rides turns out to be true, as in most months, members have shorter rides compared to casual riders in every day of the week, and members have more rides per day than casual riders during the \"solid weekdays\" (i.e Monday-Thursday), but during the weekends (Friday included), there are more casual riders than members, perhaps due to not having work and thus enjoying a bike ride as a recreational hobby on the weekend."
   ]
  },
  {
   "cell_type": "markdown",
   "metadata": {},
   "source": [
    "So far, we have been analyzing the trends/characteristics of the casual/member riders on a month-by-month or day-of-week basis. This allowed us to analyze the difference in behaviors between the two groups based on date and time. Now we will proceed by merging the datasets and analyze the data as a whole, as we have finished our analysis of the date-dependent characteristics. "
   ]
  },
  {
   "cell_type": "code",
   "execution_count": 77,
   "metadata": {},
   "outputs": [],
   "source": [
    "df = pd.concat(df_list, ignore_index=True)"
   ]
  },
  {
   "cell_type": "markdown",
   "metadata": {},
   "source": [
    "We can look at the breakdown between casual riders and members for electric bikes, classic bikes, etc."
   ]
  },
  {
   "cell_type": "code",
   "execution_count": 80,
   "metadata": {},
   "outputs": [
    {
     "data": {
      "text/html": [
       "<div>\n",
       "<style scoped>\n",
       "    .dataframe tbody tr th:only-of-type {\n",
       "        vertical-align: middle;\n",
       "    }\n",
       "\n",
       "    .dataframe tbody tr th {\n",
       "        vertical-align: top;\n",
       "    }\n",
       "\n",
       "    .dataframe thead th {\n",
       "        text-align: right;\n",
       "    }\n",
       "</style>\n",
       "<table border=\"1\" class=\"dataframe\">\n",
       "  <thead>\n",
       "    <tr style=\"text-align: right;\">\n",
       "      <th>rideable_type</th>\n",
       "      <th>classic_bike</th>\n",
       "      <th>docked_bike</th>\n",
       "      <th>electric_bike</th>\n",
       "    </tr>\n",
       "    <tr>\n",
       "      <th>member_casual</th>\n",
       "      <th></th>\n",
       "      <th></th>\n",
       "      <th></th>\n",
       "    </tr>\n",
       "  </thead>\n",
       "  <tbody>\n",
       "    <tr>\n",
       "      <th>casual</th>\n",
       "      <td>983844.0</td>\n",
       "      <td>183610.0</td>\n",
       "      <td>1425034.0</td>\n",
       "    </tr>\n",
       "    <tr>\n",
       "      <th>member</th>\n",
       "      <td>1928636.0</td>\n",
       "      <td>NaN</td>\n",
       "      <td>1942764.0</td>\n",
       "    </tr>\n",
       "  </tbody>\n",
       "</table>\n",
       "</div>"
      ],
      "text/plain": [
       "rideable_type  classic_bike  docked_bike  electric_bike\n",
       "member_casual                                          \n",
       "casual             983844.0     183610.0      1425034.0\n",
       "member            1928636.0          NaN      1942764.0"
      ]
     },
     "execution_count": 80,
     "metadata": {},
     "output_type": "execute_result"
    }
   ],
   "source": [
    "casual_member_bike_breakdown = df.pivot_table(values='ride_id',index='member_casual',columns='rideable_type',aggfunc=np.count_nonzero)\n",
    "casual_member_bike_breakdown"
   ]
  },
  {
   "cell_type": "markdown",
   "metadata": {},
   "source": [
    "We see that of the *docked_bike* ride type, there are no rides by members. This is a puzzling result and the naming *docked_bike* is unclear as to what kind of bike it is, as all Divvy bikes are able to be docked at Divvy stations. My closest guess is the *docked_bike* represents classic Divvy bikes that were manufactured before the 2019/2020 expansion by Divvy/Lyft to manufacture electric bikes. Even if we consider all the *docked_bike* rides to be classic bikes, the result still shows that casual members overall use electric bikes more than classic bikes, whereas Divvy members seem evenly split between classic bikes and electric bikes."
   ]
  },
  {
   "cell_type": "code",
   "execution_count": 85,
   "metadata": {},
   "outputs": [
    {
     "name": "stdout",
     "output_type": "stream",
     "text": [
      "proportion of casual rides using electric bikes (minimum): 0.549678147015531\n",
      "proportion of casual rides using electric bikes (maximum): 0.6205020042522859\n",
      "proportion of member rides using electric bikes: 0.5018246629126414\n"
     ]
    }
   ],
   "source": [
    "print(\"proportion of casual rides using electric bikes (minimum):\", (1425034.0)/(983844.0+183610.0+1425034.0))\n",
    "print(\"proportion of casual rides using electric bikes (maximum):\", (1425034.0+183610.0)/(983844.0+183610.0+1425034.0))\n",
    "print(\"proportion of member rides using electric bikes:\", 1942764.0/(1928636.0+1942764.0))"
   ]
  },
  {
   "cell_type": "markdown",
   "metadata": {},
   "source": [
    "So the proportion of casual rides using electric bikes is between 54.96% and 62.05%, and for member rides it is a much more balanced 50.18%."
   ]
  },
  {
   "cell_type": "markdown",
   "metadata": {},
   "source": [
    "This breakdown can possibly be attributed to Divvy's pricing plans. Members enjoy reduced prices on electric bikes from a $0.42/min without membership to $0.17/min with, which is the same rate for classic bikes with or without membership, but Divvy members enjoy 45 minutes of riding for free on classic bikes, in addition to free unlocks, whereas casual riders would have to pay $1 to unlock bikes without a day pass. "
   ]
  },
  {
   "cell_type": "markdown",
   "metadata": {},
   "source": [
    "We can also analyze the average ride times for the entire year between casual riders and members."
   ]
  },
  {
   "cell_type": "code",
   "execution_count": 94,
   "metadata": {},
   "outputs": [
    {
     "data": {
      "text/html": [
       "<div>\n",
       "<style scoped>\n",
       "    .dataframe tbody tr th:only-of-type {\n",
       "        vertical-align: middle;\n",
       "    }\n",
       "\n",
       "    .dataframe tbody tr th {\n",
       "        vertical-align: top;\n",
       "    }\n",
       "\n",
       "    .dataframe thead th {\n",
       "        text-align: right;\n",
       "    }\n",
       "</style>\n",
       "<table border=\"1\" class=\"dataframe\">\n",
       "  <thead>\n",
       "    <tr style=\"text-align: right;\">\n",
       "      <th></th>\n",
       "      <th>ride_length</th>\n",
       "    </tr>\n",
       "    <tr>\n",
       "      <th>member_casual</th>\n",
       "      <th></th>\n",
       "    </tr>\n",
       "  </thead>\n",
       "  <tbody>\n",
       "    <tr>\n",
       "      <th>casual</th>\n",
       "      <td>28.495682</td>\n",
       "    </tr>\n",
       "    <tr>\n",
       "      <th>member</th>\n",
       "      <td>12.548860</td>\n",
       "    </tr>\n",
       "  </tbody>\n",
       "</table>\n",
       "</div>"
      ],
      "text/plain": [
       "               ride_length\n",
       "member_casual             \n",
       "casual           28.495682\n",
       "member           12.548860"
      ]
     },
     "execution_count": 94,
     "metadata": {},
     "output_type": "execute_result"
    }
   ],
   "source": [
    "casual_member_yearly_mean = df.pivot_table(values='ride_length',index='member_casual',aggfunc=np.average)\n",
    "casual_member_yearly_mean"
   ]
  },
  {
   "cell_type": "markdown",
   "metadata": {},
   "source": [
    "This average is consistent with our findings month-by-month on the difference in average ride duration for members and casual riders."
   ]
  },
  {
   "cell_type": "markdown",
   "metadata": {},
   "source": [
    "## Summary of findings\n",
    "We have learned several distinct characteristics between Divvy's casual riders and Divvy's member riders.\n",
    "\n",
    "* Casual riders ride much less frequently than member riders, but have longer rides.\n",
    "* Casual riders are much more likely to stop riding when the weather is colder than member riders.\n",
    "* Casual riders mainly ride during the weekends, unlike members.\n",
    "* Casual riders overall prefer electric bikes to classic bikes, unlike member riders which evenly use both.\n",
    "\n",
    "If Divvy were to want to increase the number of members among its users, I would recommend:\n",
    "* Improve the pricing discount for electric bikes even more for members during colder months of the year.\n",
    "* Offer members a free amount of time riding electric bikes, similar to the free 45 minutes of classic bikes that members already enjoy.\n",
    "* Partner with local recreation spots/parks to give members more benefits for biking at these locations.\n",
    "\n",
    "All of these recommendations are aimed at converting those that are on the fence on committing to a membership, as options in the membership would be more attractive to casual riders, who ride less in the colder months, prefer electric bikes, and mainly bike for recreation."
   ]
  }
 ],
 "metadata": {
  "kernelspec": {
   "display_name": ".venv",
   "language": "python",
   "name": "python3"
  },
  "language_info": {
   "codemirror_mode": {
    "name": "ipython",
    "version": 3
   },
   "file_extension": ".py",
   "mimetype": "text/x-python",
   "name": "python",
   "nbconvert_exporter": "python",
   "pygments_lexer": "ipython3",
   "version": "3.11.0"
  },
  "orig_nbformat": 4
 },
 "nbformat": 4,
 "nbformat_minor": 2
}
